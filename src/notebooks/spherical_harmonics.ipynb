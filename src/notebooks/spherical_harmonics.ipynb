{
 "cells": [
  {
   "cell_type": "code",
   "execution_count": null,
   "metadata": {},
   "outputs": [],
   "source": [
    "import numpy as np\n",
    "import pyrender\n",
    "import trimesh\n",
    "from utils.spherical_harmonics import *\n",
    "import scipy\n",
    "import pyvista as pv\n",
    "import matplotlib.pyplot as plt\n",
    "from mpl_toolkits.mplot3d import Axes3D\n",
    "import numpy as np\n",
    "from scipy.interpolate import griddata\n",
    "from scipy.integrate import dblquad\n",
    "import numpy as np\n",
    "from scipy.optimize import minimize\n",
    "from scipy.special import sph_harm\n",
    "from scipy.spatial.transform import Rotation\n",
    "import os"
   ]
  },
  {
   "cell_type": "code",
   "execution_count": null,
   "metadata": {},
   "outputs": [],
   "source": [
    "def real_spherical_harmonic(m, l, phi, theta):\n",
    "    assert np.abs(m) <= l\n",
    "    if m == 0:\n",
    "        return np.real(scipy.special.sph_harm(m, l, phi, theta))\n",
    "    elif m > 0:\n",
    "        return np.real((1/np.sqrt(2))*(scipy.special.sph_harm(m, l, phi, theta) + ((-1)**m) * scipy.special.sph_harm(-m, l, phi, theta)))\n",
    "    elif m < 0:\n",
    "        return np.real((1/(1j*np.sqrt(2)))*(scipy.special.sph_harm(-m, l, phi, theta) - ((-1)**(-m)) * scipy.special.sph_harm(m, l, phi, theta)))"
   ]
  },
  {
   "cell_type": "code",
   "execution_count": null,
   "metadata": {},
   "outputs": [],
   "source": [
    "def simpson_integral_grids(x_grid, y_grid, eval_grid):\n",
    "    a = x_grid[0,0]\n",
    "    b = x_grid[0,-1]\n",
    "    n = int(x_grid.shape[0]/2)\n",
    "    \n",
    "    c = y_grid[0,0]\n",
    "    d = y_grid[-1,0]\n",
    "    m = int(y_grid.shape[1]/2)\n",
    "\n",
    "    h = (b - a) / (2*n)\n",
    "    J1 = 0  # Terminos extremos\n",
    "    J2 = 0  # Terminos pares\n",
    "    J3 = 0  # Terminos impares\n",
    "    for i in range(2*n + 1):  # i in [0,2n]\n",
    "        hx = (d - c) / (2*m)\n",
    "        K1 = eval_grid[i, 0] + eval_grid[i, -1]  # Terminos extremos\n",
    "        K2 = 0  # Terminos pares\n",
    "        K3 = 0  # Terminos impares\n",
    "        for j in range(1, 2*m):  # j in [1,2m-1]\n",
    "            Q = eval_grid[i, j]\n",
    "            if j % 2 == 0:\n",
    "                K2 += Q\n",
    "            else:\n",
    "                K3 += Q\n",
    "        L = (K1 + 2*K2 + 4*K3)*hx/3\n",
    "        if i == 0 or i == 2*n:\n",
    "            J1 += L\n",
    "        elif i % 2 == 0:\n",
    "            J2 += L\n",
    "        else:\n",
    "            J3 += L\n",
    "    J = h*(J1 + 2*J2 + 4*J3)/3\n",
    "    return J"
   ]
  },
  {
   "cell_type": "code",
   "execution_count": null,
   "metadata": {},
   "outputs": [],
   "source": [
    "def simpson_integral_call(func, a, b, c, d, n, m):\n",
    "    h = (b - a) / (2*n)\n",
    "    J1 = 0  # Terminos extremos\n",
    "    J2 = 0  # Terminos pares\n",
    "    J3 = 0  # Terminos impares\n",
    "    for i in range(2*n + 1):  # i in [0,2n]\n",
    "        x = a + i*h\n",
    "        hx = (d - c) / (2*m)\n",
    "        K1 = func(x, c) + func(x, d)\n",
    "        K2 = 0\n",
    "        K3 = 0\n",
    "        for j in range(1, 2*m):  # j in [1,2m-1]\n",
    "            y = c + j*hx\n",
    "            Q = func(x, y)\n",
    "            if j % 2 == 0:\n",
    "                K2 += Q\n",
    "            else:\n",
    "                K3 += Q\n",
    "        L = (K1 + 2*K2 + 4*K3)*hx/3\n",
    "        if i == 0 or i == 2*n:\n",
    "            J1 += L\n",
    "        elif i % 2 == 0:\n",
    "            J2 += L\n",
    "        else:\n",
    "            J3 += L\n",
    "    J = h*(J1 + 2*J2 + 4*J3)/3\n",
    "    return J"
   ]
  },
  {
   "cell_type": "code",
   "execution_count": null,
   "metadata": {},
   "outputs": [],
   "source": [
    "def print_coefficients(coefficients):\n",
    "    print(\"Coeficients (m,l)\")\n",
    "    l_max = int(np.sqrt(len(coefficients)))\n",
    "    cont = 0\n",
    "    longitud_maxima_coeficientes = max(len(\"{:.2f}\".format(x)) for x in coefficients)\n",
    "    longitud_maxima_valores = max(len(f\"({m},{l})\") for l in range(0, max_l) for m in range(-l, l + 1))\n",
    "    for l in range(0, max_l + 1):\n",
    "        for m in range(-l, l + 1):\n",
    "            print(\"{:>{}}:\".format(f\"({m},{l})\", longitud_maxima_valores), end=\" \")\n",
    "            print(\"{:>{}}\".format(\"{:.2f}\".format(coefficients[cont]), longitud_maxima_coeficientes), end=\", \")\n",
    "            cont += 1\n",
    "        print(\"\")"
   ]
  },
  {
   "cell_type": "code",
   "execution_count": null,
   "metadata": {},
   "outputs": [],
   "source": [
    "def compute_grids(r, phi, theta, shape = (201,201)):\n",
    "    n_phi, n_theta = shape\n",
    "    p = np.linspace(0, 2*np.pi, n_phi)\n",
    "    t = np.linspace(0, np.pi, n_theta)\n",
    "\n",
    "    phi_grid, theta_grid = np.meshgrid(p, t) # phi over cols, theta over rows\n",
    "    # griddata((points), values, (Points at which to interpolate data))\n",
    "    r_grid = griddata((phi, theta), r, (phi_grid, theta_grid), method='nearest', fill_value=0.0)\n",
    "    return r_grid, phi_grid, theta_grid\n",
    "\n",
    "def coefficient(m, l, phi_grid, theta_grid, r_grid):\n",
    "    eval_grid = r_grid * np.sin(theta_grid) * real_spherical_harmonic(m, l, phi_grid, theta_grid)\n",
    "    return simpson_integral_grids(phi_grid, theta_grid, eval_grid)\n",
    "\n",
    "def spherical_coefficients(max_l, phi_grid, theta_grid, r_grid):\n",
    "    coefficients = []\n",
    "    for l in range(0, max_l + 1):\n",
    "        for m in range(-l, l + 1):\n",
    "            coefficients.append(coefficient(m, l, phi_grid, theta_grid, r_grid))\n",
    "    return coefficients"
   ]
  },
  {
   "cell_type": "code",
   "execution_count": null,
   "metadata": {},
   "outputs": [],
   "source": [
    "\n",
    "mesh = trimesh.load('../data/oriented_dataset/Dundee 2ROW British/DHBT16P16 4.stl')\n",
    "x = mesh.vertices[:, 0]\n",
    "y = mesh.vertices[:, 1]\n",
    "z = mesh.vertices[:, 2]\n",
    "r, phi, theta = spherical_coordinates(x, y, z)\n",
    "\n",
    "r_grid, phi_grid, theta_grid = compute_grids(r, phi, theta, shape = (201,201))\n",
    "\n",
    "max_l = 10\n",
    "coefs = spherical_coefficients(max_l, phi_grid, theta_grid, r_grid)\n",
    "\n",
    "print_coefficients(coefs)"
   ]
  },
  {
   "cell_type": "code",
   "execution_count": null,
   "metadata": {},
   "outputs": [],
   "source": [
    "mesh = trimesh.load('../data/oriented_dataset/Dundee 6ROW Scandinavian/DHBT16P101 5.stl')\n",
    "x = mesh.vertices[:, 0]\n",
    "y = mesh.vertices[:, 1]\n",
    "z = mesh.vertices[:, 2]\n",
    "r, phi, theta = spherical_coordinates(x, y, z)\n",
    "r_grid, phi_grid, theta_grid = compute_grids(r, phi, theta, shape = (201,201))\n",
    "\n",
    "max_l = 30\n",
    "\n",
    "for current_l in range(30, 52, 3):\n",
    "    coefs = spherical_coefficients(current_l, phi_grid, theta_grid, r_grid)\n",
    "    r_new = np.zeros(r.shape)\n",
    "    cont = 0\n",
    "    for l in range(0, current_l + 1):\n",
    "        for m in range(-l, l + 1):\n",
    "            r_new += coefs[cont] * real_spherical_harmonic(m, l, phi, theta)\n",
    "            cont += 1\n",
    "\n",
    "    x, y, z = cartesian_coordinates_3d(r_new, phi, theta)\n",
    "    verts = np.column_stack((x,y,z))\n",
    "    mesh.vertices = verts\n",
    "\n",
    "    export_path = \"../data/shperical_plotting/Dundee 6ROW Scandinavian DHBT16P101 5/\"\n",
    "    os.makedirs(export_path, exist_ok=True)\n",
    "    mesh.export(export_path + f'L{current_l}.stl')"
   ]
  },
  {
   "cell_type": "code",
   "execution_count": null,
   "metadata": {},
   "outputs": [],
   "source": [
    "mesh = trimesh.load('../data/oriented_dataset/Dundee 6ROW Scandinavian/DHBT16P101 5.stl')\n",
    "export_path = \"../data/shperical_plotting/6ROW/\"\n",
    "\n",
    "mesh.export(export_path + f'DHBT16P101 5.stl')"
   ]
  },
  {
   "cell_type": "code",
   "execution_count": 1,
   "metadata": {},
   "outputs": [],
   "source": [
    "from utils.spherical_harmonics import *"
   ]
  },
  {
   "cell_type": "code",
   "execution_count": 2,
   "metadata": {},
   "outputs": [
    {
     "name": "stdout",
     "output_type": "stream",
     "text": [
      "Entrando en la carpeta ../data/Barley STL oriented files\n",
      "Entrando en la carpeta ../data/Barley STL oriented files/Dundee 2ROW British\n",
      "Entrando en la carpeta ../data/Barley STL oriented files/Dundee 2ROW Scottish\n",
      "Entrando en la carpeta ../data/Barley STL oriented files/Dundee 6ROW BERE Orkney\n",
      "Entrando en la carpeta ../data/Barley STL oriented files/Dundee 6ROW BERE Unknown\n",
      "Entrando en la carpeta ../data/Barley STL oriented files/Dundee 6ROW BERE Western Isles\n",
      "Entrando en la carpeta ../data/Barley STL oriented files/Dundee 6ROW Faro\n",
      "Entrando en la carpeta ../data/Barley STL oriented files/Dundee 6ROW Scandinavian\n",
      "Entrando en la carpeta ../data/Barley STL oriented files/Orkney 2ROW British\n",
      "Entrando en la carpeta ../data/Barley STL oriented files/Orkney 2ROW Scottish\n",
      "Entrando en la carpeta ../data/Barley STL oriented files/Orkney 6ROW BERE ORKNEY\n",
      "Entrando en la carpeta ../data/Barley STL oriented files/Orkney 6ROW BERE Unknown\n",
      "Entrando en la carpeta ../data/Barley STL oriented files/Orkney 6ROW BERE Western Isles\n"
     ]
    }
   ],
   "source": [
    "dataset_path = \"../data/Barley STL oriented files\"\n",
    "exportt_path = \"../data/spherical_coefficients_L30\"\n",
    "spherical_harmonics_coefficients_dataset(dataset_path, exportt_path, max_l = 30, shape = (201, 201))"
   ]
  },
  {
   "cell_type": "code",
   "execution_count": null,
   "metadata": {},
   "outputs": [],
   "source": []
  }
 ],
 "metadata": {
  "kernelspec": {
   "display_name": "CVC_cebada",
   "language": "python",
   "name": "python3"
  },
  "language_info": {
   "codemirror_mode": {
    "name": "ipython",
    "version": 3
   },
   "file_extension": ".py",
   "mimetype": "text/x-python",
   "name": "python",
   "nbconvert_exporter": "python",
   "pygments_lexer": "ipython3",
   "version": "3.10.13"
  },
  "orig_nbformat": 4
 },
 "nbformat": 4,
 "nbformat_minor": 2
}
