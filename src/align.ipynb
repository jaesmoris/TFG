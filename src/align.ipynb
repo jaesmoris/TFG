{
 "cells": [
  {
   "cell_type": "code",
   "execution_count": 1,
   "metadata": {},
   "outputs": [],
   "source": [
    "import numpy as np\n",
    "import pyrender\n",
    "import trimesh\n",
    "import os\n",
    "from tqdm.notebook import tnrange, tqdm\n",
    "\n",
    "from utils.figuras_predefinidas import *\n",
    "from utils.orientaciones import *\n",
    "from utils.slices import *"
   ]
  },
  {
   "cell_type": "code",
   "execution_count": 2,
   "metadata": {},
   "outputs": [
    {
     "data": {
      "text/plain": [
       "<pyrender.node.Node at 0x1b2543aad40>"
      ]
     },
     "execution_count": 2,
     "metadata": {},
     "output_type": "execute_result"
    }
   ],
   "source": [
    "# AXIS\n",
    "meshx, meshy, meshz = create_axis(length=5.0, radius=0.05)\n",
    "render_meshx, render_meshy, render_meshz = render_axis(meshx, meshy, meshz)\n",
    "\n",
    "# ESCENA\n",
    "scene = pyrender.Scene()\n",
    "scene.add(render_meshx)\n",
    "scene.add(render_meshy)\n",
    "scene.add(render_meshz)"
   ]
  },
  {
   "cell_type": "code",
   "execution_count": 3,
   "metadata": {},
   "outputs": [],
   "source": [
    "def align_dataset(folder_path, destination_path):\n",
    "    print(f\"Entrando en la carpeta {folder_path}\")\n",
    "    paths = os.listdir(folder_path)\n",
    "    for path in paths:\n",
    "        import_path = folder_path + \"/\" + path\n",
    "        export_path = destination_path + \"/\" + path\n",
    "        # Load, align and export\n",
    "        if path[-3:] == \"stl\":\n",
    "            mesh = trimesh.load(import_path)\n",
    "            mesh = align(mesh)\n",
    "            \n",
    "            os.makedirs(destination_path, exist_ok=True)\n",
    "            mesh.export(export_path)\n",
    "        # Recursion over directories\n",
    "        else:\n",
    "            align_dataset(import_path, export_path)"
   ]
  },
  {
   "cell_type": "code",
   "execution_count": 4,
   "metadata": {},
   "outputs": [],
   "source": [
    "folder_path = '../original_data/dataset'\n",
    "destination_path = '../data'\n",
    "#align_dataset(folder_path, destination_path)"
   ]
  },
  {
   "cell_type": "code",
   "execution_count": 5,
   "metadata": {},
   "outputs": [],
   "source": [
    "def render_dataset(folder_path, scene):\n",
    "    print(f\"Entrando en la carpeta {folder_path}\")\n",
    "    paths = os.listdir(folder_path)\n",
    "    for i, path in enumerate(paths):\n",
    "        import_path = folder_path + \"/\" + path\n",
    "        if path[-3:] == \"stl\":\n",
    "            mesh = trimesh.load(import_path)\n",
    "            mesh.vertices = mesh.vertices + np.array([0+10*(i//10),4*(i%10),0])\n",
    "            render_mesh = pyrender.Mesh.from_trimesh(mesh)\n",
    "            scene.add(render_mesh)\n",
    "        # Recursion over directories\n",
    "        elif os.path.isdir(path):\n",
    "            render_dataset(import_path, export_path)"
   ]
  },
  {
   "cell_type": "code",
   "execution_count": 6,
   "metadata": {},
   "outputs": [
    {
     "name": "stdout",
     "output_type": "stream",
     "text": [
      "Entrando en la carpeta ../data/Barley STL files/Orkney 6ROW Scandinavian\n"
     ]
    }
   ],
   "source": [
    "folder_path = '../data/Barley STL files/Orkney 6ROW Scandinavian'\n",
    "render_dataset(folder_path, scene)"
   ]
  },
  {
   "cell_type": "code",
   "execution_count": 7,
   "metadata": {},
   "outputs": [],
   "source": [
    "# CAMERA AND LIGHT\n",
    "camera = pyrender.PerspectiveCamera(yfov=np.pi / 3.0)\n",
    "light = pyrender.PointLight(intensity=10.0)\n",
    "\n",
    "scene.add(camera, pose=np.eye(4))\n",
    "scene.add(light, pose=np.eye(4))\n",
    "\n",
    "# VIEWER\n",
    "viewer = pyrender.Viewer(scene, use_raymond_lighting=True, all_wireframe=False)"
   ]
  },
  {
   "cell_type": "code",
   "execution_count": 8,
   "metadata": {},
   "outputs": [],
   "source": [
    "folder_path = \"../data/Barley STL files/Orkney 6ROW Scandinavian\"\n",
    "rotate_list = []\n",
    "\n",
    "paths = os.listdir(folder_path)\n",
    "for i in rotate_list:\n",
    "    mesh = trimesh.load(folder_path + \"/\" + paths[i])\n",
    "    mesh.vertices = mesh.vertices = np.matmul(z_rotation_matrix(np.pi), mesh.vertices.transpose()).transpose()\n",
    "    mesh.export(folder_path + \"/\" + paths[i])\n",
    "    \n",
    "\n"
   ]
  },
  {
   "cell_type": "code",
   "execution_count": null,
   "metadata": {},
   "outputs": [],
   "source": []
  },
  {
   "cell_type": "code",
   "execution_count": null,
   "metadata": {},
   "outputs": [],
   "source": []
  }
 ],
 "metadata": {
  "kernelspec": {
   "display_name": "Python 3",
   "language": "python",
   "name": "python3"
  },
  "language_info": {
   "codemirror_mode": {
    "name": "ipython",
    "version": 3
   },
   "file_extension": ".py",
   "mimetype": "text/x-python",
   "name": "python",
   "nbconvert_exporter": "python",
   "pygments_lexer": "ipython3",
   "version": "3.10.13"
  },
  "orig_nbformat": 4
 },
 "nbformat": 4,
 "nbformat_minor": 2
}
